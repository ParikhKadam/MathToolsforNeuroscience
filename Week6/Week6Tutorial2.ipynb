{
  "nbformat": 4,
  "nbformat_minor": 0,
  "metadata": {
    "colab": {
      "name": "Copy of Week6Tutorial2.ipynb",
      "provenance": [],
      "collapsed_sections": [],
      "toc_visible": true,
      "authorship_tag": "ABX9TyNe0YT5WRvWs+vqw692qs0s",
      "include_colab_link": true
    },
    "kernelspec": {
      "name": "python3",
      "display_name": "Python 3"
    }
  },
  "cells": [
    {
      "cell_type": "markdown",
      "metadata": {
        "id": "view-in-github",
        "colab_type": "text"
      },
      "source": [
        "<a href=\"https://colab.research.google.com/github/ebatty/MathToolsforNeuroscience/blob/stats_section/Week6/Week6Tutorial2.ipynb\" target=\"_parent\"><img src=\"https://colab.research.google.com/assets/colab-badge.svg\" alt=\"Open In Colab\"/></a>"
      ]
    },
    {
      "cell_type": "markdown",
      "metadata": {
        "id": "uFYq56oN79Vm"
      },
      "source": [
        "# Week 6: Probability & Statistics, Intro to Probability\n",
        "\n",
        "# Tutorial 2\n",
        "\n",
        "# [insert your name]\n",
        "\n",
        "**Important reminders**: Before starting, click \"File -> Save a copy in Drive\". Produce a pdf for submission by \"File -> Print\" and then choose \"Save to PDF\".\n"
      ]
    },
    {
      "cell_type": "code",
      "metadata": {
        "id": "cskLK0GeTaUy",
        "cellView": "form"
      },
      "source": [
        "# @markdown Imports\n",
        "import numpy as np\n",
        "from scipy.stats import binom"
      ],
      "execution_count": null,
      "outputs": []
    },
    {
      "cell_type": "markdown",
      "metadata": {
        "id": "urDr3GfgqI8b"
      },
      "source": [
        "# Exercise 1: Two armed bandit task\n",
        "\n",
        "You are a mouse. A giant plonks you down in a weird apparatus each morning when you'd rather have been sleeping in. You consider biting the giant in retaliation but decide against it. Eventually, because you're a smart mouse, you realize that you can poke a central port with your nose. After this, if you go the left or right, there are ports that sometimes give you sugar water when you lick (YUM). It seems like one of the sides (left or right) tends to give you the reward of sugar water more often. Annoyingly, the side that gives rewards more often seems to change every day! \n",
        "\n",
        "You decide that each day you will visit each side (left and right) two times (a total of 4 trials). You will then pick the side that gave you the most rewards and keep visiting that one. If they give you equal numbers of rewards, you choose randomly.\n",
        "\n",
        "**What is the probability you are wrong (pick the righthand port) for a given day if, unbeknownst to you, the probability of the left port giving water is 0.8 and the right port is 0.3?** \n",
        "\n",
        "\n",
        "\n"
      ]
    },
    {
      "cell_type": "markdown",
      "metadata": {
        "id": "JR7Ker13fJx0"
      },
      "source": [
        "## (Optional) A) Simulation\n",
        "\n",
        "Let's first simulate this situation to get an answer (we'll compute it analytically next). We can get a feel for what's happening and check the computed answer in part B!\n",
        "\n",
        "We want to code this scenario where the rewards on each of the 4 trials are randomly chosen given the probabilities for each side. Out of 100000 simulations of the 4 trials, compute how many times the mouse picks the right port vs the left port.\n",
        "\n",
        "The relevant probability distribution is the binomial distribution (https://en.wikipedia.org/wiki/Binomial_distribution). Relevant code might be:\n",
        "- binom (from scipy.stats.binom):  binom(n, p) is the binomial distribution with n visits and probability of reward p. You can use  binom(n, p).pmf(k) to get the probability mass function or binom(n, p).cdf(k) to get the cumulative distributive function. https://docs.scipy.org/doc/scipy/reference/generated/scipy.stats.binom.html\n",
        "- np.random.binomial(n, p) draws samples from the binomial distribution with n trials and probability p. https://numpy.org/doc/stable/reference/random/generated/numpy.random.binomial.html\n",
        "\n"
      ]
    },
    {
      "cell_type": "code",
      "metadata": {
        "id": "eVGUhjvbg-Zz"
      },
      "source": [
        "left_prob = 0.8\n",
        "right_prob = 0.3\n",
        "n_visits_per_side = 2\n",
        "\n",
        "# your simulation code here"
      ],
      "execution_count": null,
      "outputs": []
    },
    {
      "cell_type": "markdown",
      "metadata": {
        "id": "wzGGd9UMhPxq"
      },
      "source": [
        "## B) Analytical Computation\n",
        "\n",
        "Now we will actually analytically compute the probability that you are wrong. There are hints you can uncover as needed but try to work through things as much as possible before revealing each hint.\n"
      ]
    },
    {
      "cell_type": "markdown",
      "metadata": {
        "id": "ym2jFoQ78FXj"
      },
      "source": [
        "### **Answer**\n",
        "<font color='green'><span style=\"font-size:larger;\">\n",
        "Fill in the probability of being wrong here so it is green. (show your work above or below though!)\n",
        "</font> </span>"
      ]
    },
    {
      "cell_type": "code",
      "metadata": {
        "id": "94r7VLre7Hu1",
        "cellView": "form"
      },
      "source": [
        "# @markdown Click here for hint 1\n",
        "\n",
        "#What are the possible outcomes in terms of number of rewards total for each\n",
        "#side (given 2 visits to each side)? \n"
      ],
      "execution_count": null,
      "outputs": []
    },
    {
      "cell_type": "code",
      "metadata": {
        "id": "DFcmshmg7SAi",
        "cellView": "form"
      },
      "source": [
        "# @markdown Hint 2\n",
        "\n",
        "# Think through each event where you would be wrong \n",
        "# (what the number of rewards on the left side vs the right side would be). \n",
        "# Brute force this - write out every single possibility."
      ],
      "execution_count": null,
      "outputs": []
    },
    {
      "cell_type": "code",
      "metadata": {
        "id": "EHqf7Reu7YLK",
        "cellView": "form"
      },
      "source": [
        "# @markdown Hint 3\n",
        "\n",
        "# How would you compute the total probability that you're wrong based on the \n",
        "# probability of each of these events occuring? You may want to treat ties separately\n",
        "# for ease.  How would you compute the probability\n",
        "# of each event? "
      ],
      "execution_count": null,
      "outputs": []
    },
    {
      "cell_type": "code",
      "metadata": {
        "id": "p2cFJhDC7giV",
        "cellView": "form"
      },
      "source": [
        "# @markdown Hint 4\n",
        "\n",
        "# P(wrong) = P(fewer rewards on left side) + 0.5P(tie)\n",
        "\n"
      ],
      "execution_count": null,
      "outputs": []
    },
    {
      "cell_type": "code",
      "metadata": {
        "id": "ls3yY1Dx7mD8",
        "cellView": "form"
      },
      "source": [
        "# @markdown Hint 5\n",
        "\n",
        "# The probability of either event A or event B occuring is P(A or B) = P(A) + P(B) if\n",
        "# they are mutually exclusive (they can't both happen at once). This should help\n",
        "# answer the first question in hint 3"
      ],
      "execution_count": null,
      "outputs": []
    },
    {
      "cell_type": "code",
      "metadata": {
        "id": "w_VeHjqqEY25",
        "cellView": "form"
      },
      "source": [
        "# @markdown Hint 6\n",
        "\n",
        "# The probability of event A and B occuring if they are\n",
        "# independent is P(A and B) = P(A)*P(B). This should help answer\n",
        "# the second question in hint 3"
      ],
      "execution_count": null,
      "outputs": []
    },
    {
      "cell_type": "code",
      "metadata": {
        "id": "CVl8NJkdEa-V",
        "cellView": "form"
      },
      "source": [
        "# @markdown Hint 7\n",
        "\n",
        "# binom(2, 0.8).pmf(k) gives the probability of getting k rewards from the left \n",
        "# side with 2 trials (where k is either 0, 1, or 2)"
      ],
      "execution_count": null,
      "outputs": []
    },
    {
      "cell_type": "markdown",
      "metadata": {
        "id": "ydxo5Y1T6UHv"
      },
      "source": [
        "## Optional Advanced Extension\n",
        "\n",
        "Can you write a succinct function for computing the probability that you are wrong given any number of visits to each side and any probabilities of reward on either side? So the inputs would be n_visits, left_prob, and right_prob. \n",
        "\n",
        "Use it it compute the probability of being wrong with n_visits = 4, left_prob = 0.7, and right_prob = 0.2."
      ]
    },
    {
      "cell_type": "code",
      "metadata": {
        "id": "bZHCbOAJ6tat"
      },
      "source": [
        "# your code here"
      ],
      "execution_count": null,
      "outputs": []
    },
    {
      "cell_type": "markdown",
      "metadata": {
        "id": "5ncceBcNqA0e"
      },
      "source": [
        "# (Optional Advanced Problem) Exercise 2: Birthday Paradox\n",
        "\n",
        "Compute the probability that at least two people share a birthday out of a class of 16."
      ]
    },
    {
      "cell_type": "markdown",
      "metadata": {
        "id": "7DDz7joZ8dqn"
      },
      "source": [
        "### **Answer**\n",
        "<font color='green'><span style=\"font-size:larger;\">\n",
        "Fill in the answer here so it is green. (show your work above or below though!)\n",
        "</font> </span>"
      ]
    }
  ]
}