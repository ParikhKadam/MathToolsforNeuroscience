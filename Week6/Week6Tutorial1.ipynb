{
  "nbformat": 4,
  "nbformat_minor": 0,
  "metadata": {
    "colab": {
      "name": "Copy of Week6Tutorial1.ipynb",
      "provenance": [],
      "collapsed_sections": [],
      "toc_visible": true,
      "authorship_tag": "ABX9TyOJMs3QOVTEPEdFQ88VAD71",
      "include_colab_link": true
    },
    "kernelspec": {
      "name": "python3",
      "display_name": "Python 3"
    }
  },
  "cells": [
    {
      "cell_type": "markdown",
      "metadata": {
        "id": "view-in-github",
        "colab_type": "text"
      },
      "source": [
        "<a href=\"https://colab.research.google.com/github/ebatty/MathToolsforNeuroscience/blob/stats_section/Week6/Week6Tutorial1.ipynb\" target=\"_parent\"><img src=\"https://colab.research.google.com/assets/colab-badge.svg\" alt=\"Open In Colab\"/></a>"
      ]
    },
    {
      "cell_type": "markdown",
      "metadata": {
        "id": "S9l0lyqLvkW7"
      },
      "source": [
        "# Week 6: Probability & Statistics, Intro to Probability\n",
        "\n",
        "# Tutorial 1\n",
        "\n",
        "# [insert your name]\n",
        "\n",
        "**Important reminders**: Before starting, click \"File -> Save a copy in Drive\". Produce a pdf for submission by \"File -> Print\" and then choose \"Save to PDF\".\n",
        "\n"
      ]
    },
    {
      "cell_type": "code",
      "metadata": {
        "id": "cv9HSBNPyLV9",
        "cellView": "form"
      },
      "source": [
        "# @markdown Imports\n",
        "\n",
        "# Imports\n",
        "import numpy as np\n",
        "import matplotlib.pyplot as plt\n",
        "import ipywidgets as widgets  # interactive display\n",
        "import math"
      ],
      "execution_count": null,
      "outputs": []
    },
    {
      "cell_type": "code",
      "metadata": {
        "id": "ZIdPVYl9TzmK",
        "cellView": "form"
      },
      "source": [
        "# @markdown Plotting functions\n",
        "import numpy\n",
        "from numpy.linalg import inv, eig\n",
        "from math import ceil\n",
        "from matplotlib import pyplot, ticker, get_backend, rc\n",
        "from mpl_toolkits.mplot3d import Axes3D\n",
        "from itertools import cycle\n",
        "\n",
        "\n",
        "%config InlineBackend.figure_format = 'retina'\n",
        "plt.style.use(\"https://raw.githubusercontent.com/NeuromatchAcademy/course-content/master/nma.mplstyle\")\n"
      ],
      "execution_count": null,
      "outputs": []
    },
    {
      "cell_type": "markdown",
      "metadata": {
        "id": "DPENxKOLYQJN"
      },
      "source": [
        "# Exercise 1: Probability Type Review\n",
        "\n",
        "Let's say we're interested in two discrete random variables X and Y. X can take on one of 3 values (1, 2, or 3) while Y can take on one of two (1 or 2). The joint probability distribution is summarized in the table below:\n",
        "\n",
        "|       | X = 1 | X = 2 | X = 3 |\n",
        "| ----- | ------ |------ |------ |\n",
        "| Y = 1 |   0.2 |  0.1 |  0.15     |\n",
        "| Y = 2 |  0.1   | 0.05 |  0.4     |\n"
      ]
    },
    {
      "cell_type": "markdown",
      "metadata": {
        "id": "Jja1HefAdeRl"
      },
      "source": [
        "## A) P(Y)\n",
        "Compute the marginal distribution of Y (so p(Y = 1) and p(Y = 2))"
      ]
    },
    {
      "cell_type": "markdown",
      "metadata": {
        "id": "Zdf16ZPLdkkn"
      },
      "source": [
        "### **Answer**\n",
        "<font color='green'><span style=\"font-size:larger;\">\n",
        "Fill in your answer here\n",
        "</font> </span>"
      ]
    },
    {
      "cell_type": "markdown",
      "metadata": {
        "id": "u6cQeSgZd2op"
      },
      "source": [
        "## B) P(X)\n",
        "Compute the marginal distribution of X"
      ]
    },
    {
      "cell_type": "markdown",
      "metadata": {
        "id": "GIRSadK4eAIU"
      },
      "source": [
        "### **Answer**\n",
        "<font color='green'><span style=\"font-size:larger;\">\n",
        "Fill in your answer here\n",
        "</font> </span>"
      ]
    },
    {
      "cell_type": "markdown",
      "metadata": {
        "id": "Y30gfyjReBMo"
      },
      "source": [
        "## C) P(Y | X = 2)\n",
        "\n",
        "Compute the conditional probability of Y given that X = 2."
      ]
    },
    {
      "cell_type": "markdown",
      "metadata": {
        "id": "yc8yX_1neIk2"
      },
      "source": [
        "### **Answer**\n",
        "<font color='green'><span style=\"font-size:larger;\">\n",
        "Fill in your answer here\n",
        "</font> </span>"
      ]
    },
    {
      "cell_type": "markdown",
      "metadata": {
        "id": "3sdh2mkeeWu5"
      },
      "source": [
        "## D) Independence\n",
        "\n",
        "Are Y and X independent or not?"
      ]
    },
    {
      "cell_type": "markdown",
      "metadata": {
        "id": "37y2-GujeaRR"
      },
      "source": [
        "### **Answer**\n",
        "<font color='green'><span style=\"font-size:larger;\">\n",
        "Fill in your answer here\n",
        "</font> </span>"
      ]
    },
    {
      "cell_type": "markdown",
      "metadata": {
        "id": "31yvHJrIX97I"
      },
      "source": [
        "# Exercise 2: Poisson model of spiking\n",
        "\n",
        "The probability distributions we use the most in neuroscience are Gaussian and Poisson distributions. Poisson distributions are often used to describe neural spiking. The output of the Poisson distribution is the number of spikes for that small time window. \n",
        "\n",
        "Let's say we have a neuron that's responding to head direction. The head direction ($\\theta$) ranges between 0 and 359 degrees. The underlying \"firing rate\" of the neuron to a particular head direction is $\\frac{1}{20} \\theta$. Let's say this is the response in a 10 ms bin during which the mouse is still and angled at that head direction $\\theta$. The number of spikes during that time window is modeled by a Poisson distribution where the input $\\lambda$ is that underlying firing rate. Specifically,\n",
        "\n",
        "$$ P(S = k | H = \\theta) = \\frac{\\lambda ^k e^{-\\lambda}}{k!} $$ where $\\lambda = \\frac{1}{20}\\theta$, S stands for number of spikes, H stands for head direction, and $P(S=k | H=\\theta)$ is the probability that the number of spikes is k given that the head direction is $\\theta$.\n",
        "\n",
        "Note that we have build an encoding model! Encoding models model neural responses to some stimulus or behavior - our $P(S = k | H = \\theta)$ is an encoding model."
      ]
    },
    {
      "cell_type": "markdown",
      "metadata": {
        "id": "uEbvYLCI8Als"
      },
      "source": [
        "## A) Sampling spike counts\n",
        "\n",
        "In the code below, for $\\theta$ between 0 and 359, compute $\\lambda$. Sample the spike count for 1000 trials (1000 occurences of that head direction) using `np.random.poisson`. "
      ]
    },
    {
      "cell_type": "code",
      "metadata": {
        "id": "SDKMv2dX6Sm1"
      },
      "source": [
        "thetas = np.arange(0, 360, 1)\n",
        "\n",
        "lam = ... # should be an array the same size as thetas with the lambdas\n",
        "\n",
        "n_trials = 1000\n",
        "\n",
        "# Get spike counts, an array of size len(theta) x n_trials \n",
        "# YOUR CODE HERE\n",
        "...\n"
      ],
      "execution_count": null,
      "outputs": []
    },
    {
      "cell_type": "markdown",
      "metadata": {
        "id": "KpWpVzba8rTr"
      },
      "source": [
        "## B) Lambda vs mean spike count\n",
        "\n",
        "For each $\\theta$, compute the mean of the spike count over trials and plot vs $\\lambda$. "
      ]
    },
    {
      "cell_type": "code",
      "metadata": {
        "id": "mqM0X5yp8qoX"
      },
      "source": [
        "mean_spike_count = ...\n",
        "\n",
        "fig, ax = plt.subplots(1, 1)\n",
        "ax.plot(lam, mean_spike_count, 'ok')\n",
        "ax.set(xlabel='Lambda', ylabel='Mean spike count');"
      ],
      "execution_count": null,
      "outputs": []
    },
    {
      "cell_type": "markdown",
      "metadata": {
        "id": "RCWfpGA19Zjd"
      },
      "source": [
        "What is the relationship between lambda and the mean spike count? Aka between lambda and the mean of the Poisson distribution"
      ]
    },
    {
      "cell_type": "markdown",
      "metadata": {
        "id": "WGu57u-RJmji"
      },
      "source": [
        "### **Answer**\n",
        "<font color='green'><span style=\"font-size:larger;\">\n",
        "Fill in your text answer here (if in latex) so it is green. Use <br> <br>  for line breaks\n",
        "</font> </span>"
      ]
    },
    {
      "cell_type": "markdown",
      "metadata": {
        "id": "8wSLhdU59gEz"
      },
      "source": [
        "## C) Mean vs variance of spike count\n",
        "\n",
        "Now, for each theta, compute the variance of the spike counts over trials. Plot the mean spike count vs the variance of the spike counts. "
      ]
    },
    {
      "cell_type": "code",
      "metadata": {
        "id": "_NvXK3qu9jGI"
      },
      "source": [
        "variance_spike_count = ...\n",
        "\n",
        "fig, ax = plt.subplots(1, 1)\n",
        "ax.plot(mean_spike_count, variance_spike_count, 'ok')\n",
        "ax.set(xlabel='Mean spike count', ylabel='Variance of spike counts');"
      ],
      "execution_count": null,
      "outputs": []
    },
    {
      "cell_type": "markdown",
      "metadata": {
        "id": "TeY5wBqu95E_"
      },
      "source": [
        "What is the relationship between the mean spike count and the variance of spike counts? Aka between the mean and variance of a Poisson distribution"
      ]
    },
    {
      "cell_type": "markdown",
      "metadata": {
        "id": "bAZly7-G-Bes"
      },
      "source": [
        "### **Answer**\n",
        "<font color='green'><span style=\"font-size:larger;\">\n",
        "Fill in your text answer here (if in latex) so it is green. Use <br> <br>  for line breaks\n",
        "</font> </span>"
      ]
    },
    {
      "cell_type": "markdown",
      "metadata": {
        "id": "EBdOGRoE-Gcf"
      },
      "source": [
        "## D) Why Poisson?\n",
        "\n",
        "What are some features of the Poisson distribution that lend to modeling spiking well? What are some potential problems? "
      ]
    },
    {
      "cell_type": "markdown",
      "metadata": {
        "id": "NiTGyYc1eyxJ"
      },
      "source": [
        "### **Answer**\n",
        "<font color='green'><span style=\"font-size:larger;\">\n",
        "Fill in your text answer here \n",
        "</font> </span>"
      ]
    }
  ]
}